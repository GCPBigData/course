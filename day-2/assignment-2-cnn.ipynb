{
 "cells": [
  {
   "cell_type": "markdown",
   "metadata": {
    "colab_type": "text",
    "id": "kKhMLqYhT-kV"
   },
   "source": [
    "## Assignment 2: Fashion MNIST\n",
    "Now it is your turn! You are going to use the same methods presented in the previous video in order to classify clothes from a black and white dataset of images (image by Zalando, MIT License):\n",
    "![](https://tensorflow.org/images/fashion-mnist-sprite.png)\n",
    "\n",
    "The class labels are:\n",
    "```\n",
    "0. T-shirt/top\n",
    "1. Trouser\n",
    "2. Pullover\n",
    "3. Dress\n",
    "4. Coat\n",
    "5. Sandal\n",
    "6. Shirt\n",
    "7. Sneaker\n",
    "8. Bag\n",
    "9. Ankle boot\n",
    "```\n",
    "\n",
    "### 1. Preparing the input data\n",
    "Let's first import the dataset. It is available on [keras.datasets](https://keras.io/datasets/):"
   ]
  },
  {
   "cell_type": "code",
   "execution_count": null,
   "metadata": {
    "colab": {
     "base_uri": "https://localhost:8080/",
     "height": 153
    },
    "colab_type": "code",
    "collapsed": false,
    "id": "6jmqASUFUhcA",
    "outputId": "45dc85ca-d398-451f-d376-a9282f50bb5b"
   },
   "outputs": [],
   "source": [
    "import keras\n",
    "fashion_mnist = keras.datasets.fashion_mnist\n",
    "\n",
    "(X_train, y_train), (X_test, y_test) = fashion_mnist.load_data()"
   ]
  },
  {
   "cell_type": "code",
   "execution_count": null,
   "metadata": {
    "collapsed": false
   },
   "outputs": [],
   "source": [
    "print(\"Shape of the training set: {}\".format(X_train.shape))\n",
    "print(\"Shape of the test set: {}\".format(X_test.shape))"
   ]
  },
  {
   "cell_type": "code",
   "execution_count": null,
   "metadata": {
    "colab": {},
    "colab_type": "code",
    "collapsed": true,
    "id": "gT3L_PetUlWk"
   },
   "outputs": [],
   "source": [
    "def normalize(x,m,s):\n",
    "    return (x-m)/s"
   ]
  },
  {
   "cell_type": "code",
   "execution_count": null,
   "metadata": {
    "colab": {
     "base_uri": "https://localhost:8080/",
     "height": 34
    },
    "colab_type": "code",
    "collapsed": false,
    "id": "sof9nae0UlZh",
    "outputId": "c8a07140-6d63-43df-c16b-fc5ee3c1f348"
   },
   "outputs": [],
   "source": [
    "# TODO: Assign the mean and std of the training set to train_mean and train_std\n",
    "train_mean = ...\n",
    "train_std = ... \n",
    "\n",
    "print(f'Training Mean {train_mean}')\n",
    "print(f'Training Std {train_std}')"
   ]
  },
  {
   "cell_type": "code",
   "execution_count": null,
   "metadata": {
    "colab": {},
    "colab_type": "code",
    "collapsed": true,
    "id": "L2ocA0Q5Xl9D"
   },
   "outputs": [],
   "source": [
    "# Normalize the training and testing set using standardization\n",
    "X_train = normalize(X_train, train_mean, train_std)\n",
    "X_test = normalize(X_test, train_mean, train_std)"
   ]
  },
  {
   "cell_type": "code",
   "execution_count": null,
   "metadata": {
    "colab": {},
    "colab_type": "code",
    "collapsed": false,
    "id": "Ds1WtmpkXmAE"
   },
   "outputs": [],
   "source": [
    "print(f'Training Mean after standardization {X_train.mean():.3f}')\n",
    "print(f'Training Std after standardization {X_train.std():.3f}')\n",
    "print(f'Test Mean after standardization {X_test.mean():.3f}')\n",
    "print(f'Test Std after standardization {X_test.std():.3f}')"
   ]
  },
  {
   "cell_type": "markdown",
   "metadata": {
    "colab": {},
    "colab_type": "code",
    "collapsed": true,
    "id": "drkBEcAgXmC6"
   },
   "source": [
    "### Training with fully connected layers"
   ]
  },
  {
   "cell_type": "code",
   "execution_count": null,
   "metadata": {
    "collapsed": false
   },
   "outputs": [],
   "source": [
    "from keras.models import Sequential\n",
    "from keras.layers import Flatten, Dense\n",
    "\n",
    "model = Sequential([\n",
    "    Flatten(),\n",
    "    Dense(512, activation='relu'),\n",
    "    Dense(10, activation='softmax')\n",
    "])\n",
    "\n",
    "model.compile(optimizer='adam',\n",
    "              loss='sparse_categorical_crossentropy',\n",
    "              metrics=['accuracy'])\n",
    "\n",
    "model.fit(X_train, y_train, epochs=2)\n",
    "score = model.evaluate(X_test, y_test, validation_data=(X_test, y_test))"
   ]
  },
  {
   "cell_type": "markdown",
   "metadata": {},
   "source": [
    "### 3. Extending to CNNs\n",
    "Now your goal is to develop an architecture that can reach a test accuracy higher than 0.85."
   ]
  },
  {
   "cell_type": "code",
   "execution_count": null,
   "metadata": {
    "collapsed": true
   },
   "outputs": [],
   "source": [
    "# TODO: Reshape the dataset in order to add the channel dimension\n",
    "X_train = X_train.reshape(...)\n",
    "X_test = X_test.reshape(...)"
   ]
  },
  {
   "cell_type": "code",
   "execution_count": null,
   "metadata": {
    "collapsed": false
   },
   "outputs": [],
   "source": [
    "from keras.layers import Conv2D, MaxPooling2D\n",
    "\n",
    "model = Sequential([\n",
    "    ...\n",
    "])\n",
    "\n",
    "model.compile(...)\n",
    "\n",
    "model.fit(..., validation_data=(X_test, y_test))"
   ]
  },
  {
   "cell_type": "markdown",
   "metadata": {
    "collapsed": true
   },
   "source": [
    "### 4. Visualizing Predictions"
   ]
  },
  {
   "cell_type": "code",
   "execution_count": null,
   "metadata": {
    "collapsed": true
   },
   "outputs": [],
   "source": [
    "import numpy as np\n",
    "import matplotlib.pyplot as plt\n",
    "%matplotlib inline\n",
    "\n",
    "label_names = {0:\"T-shirt/top\",\n",
    "               1:\"Trouser\",\n",
    "               2:\"Pullover\",\n",
    "               3:\"Dress\",\n",
    "               4:\"Coat\",\n",
    "               5:\"Sandal\",\n",
    "               6:\"Shirt\",\n",
    "               7:\"Sneaker\",\n",
    "               8:\"Bag\",\n",
    "               9:\"Ankle boot\"}\n",
    "\n",
    "# Index to be visualized\n",
    "for idx in range(5):\n",
    "    plt.imshow(X_test[idx].reshape(28,28), cmap='gray')\n",
    "    out = model.predict(X_test[idx].reshape(1,28,28,1))\n",
    "    plt.title(\"True: {}, Pred: {}\".format(label_names[y_test[idx]], label_names[np.argmax(out)]))\n",
    "    plt.show()"
   ]
  }
 ],
 "metadata": {
  "accelerator": "GPU",
  "anaconda-cloud": {},
  "colab": {
   "name": "CNNs.ipynb",
   "provenance": [],
   "version": "0.3.2"
  },
  "kernelspec": {
   "display_name": "Python [conda env:tensorflow]",
   "language": "python",
   "name": "conda-env-tensorflow-py"
  },
  "language_info": {
   "codemirror_mode": {
    "name": "ipython",
    "version": 3
   },
   "file_extension": ".py",
   "mimetype": "text/x-python",
   "name": "python",
   "nbconvert_exporter": "python",
   "pygments_lexer": "ipython3",
   "version": "3.6.5"
  }
 },
 "nbformat": 4,
 "nbformat_minor": 0
}
