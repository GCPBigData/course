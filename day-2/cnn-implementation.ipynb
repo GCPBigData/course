{
 "cells": [
  {
   "cell_type": "markdown",
   "metadata": {
    "colab_type": "text",
    "id": "v6OCC73yRnNv"
   },
   "source": [
    "## Convolutional Neural Networks - Implementation\n",
    "Your goal in this project is to classify handwritten digits using Convolutional Neural Networks. Here are a few examples of images from the input data:\n",
    "\n",
    "![](https://upload.wikimedia.org/wikipedia/commons/2/27/MnistExamples.png)\n",
    "\n",
    "As output labels, we have a set of integer values ranging from 0 to 1. We are going to follow those steps in this notebook:\n",
    "\n",
    "1. **Prepare the input data**\n",
    "2. **Creating a simple fully connected model**\n",
    "3. **Extending to CNNs**\n",
    "4. **Visualizing Predictions**\n",
    "\n",
    "\n",
    "### 1. Preparing the input data"
   ]
  },
  {
   "cell_type": "code",
   "execution_count": null,
   "metadata": {
    "colab": {},
    "colab_type": "code",
    "collapsed": false,
    "id": "PeFI3cQYRmbT"
   },
   "outputs": [],
   "source": [
    "import warnings\n",
    "warnings.filterwarnings(\"ignore\")\n",
    "\n",
    "from keras.datasets import mnist\n",
    "\n",
    "# The data, split between train and test sets\n",
    "(X_train, y_train), (X_test, y_test) = mnist.load_data()"
   ]
  },
  {
   "cell_type": "code",
   "execution_count": null,
   "metadata": {
    "colab": {
     "base_uri": "https://localhost:8080/",
     "height": 51
    },
    "colab_type": "code",
    "collapsed": false,
    "id": "aTEMyoXzTNCK",
    "outputId": "859ce336-1aab-4fc6-d4eb-08905905d95b"
   },
   "outputs": [],
   "source": [
    "print(\"Shape of the training set: {}\".format(X_train.shape))\n",
    "print(\"Shape of the test set: {}\".format(X_test.shape))"
   ]
  },
  {
   "cell_type": "code",
   "execution_count": null,
   "metadata": {
    "colab": {
     "base_uri": "https://localhost:8080/",
     "height": 34
    },
    "colab_type": "code",
    "collapsed": false,
    "id": "UJpUG_38US0Q",
    "outputId": "92bf4984-04d1-4dcf-a86f-1684c6843f6a"
   },
   "outputs": [],
   "source": [
    "import matplotlib.pyplot as plt\n",
    "%matplotlib inline\n",
    "\n",
    "# Index to be visualized\n",
    "IDX=2\n",
    "plt.imshow(X_train[IDX], cmap='gray')\n",
    "plt.title(\"Label: {}\".format(y_train[IDX]))\n",
    "plt.show()"
   ]
  },
  {
   "cell_type": "markdown",
   "metadata": {
    "colab_type": "text",
    "id": "9ENmPMuKVolZ"
   },
   "source": [
    "Now, let's normalize the data using standardization:"
   ]
  },
  {
   "cell_type": "code",
   "execution_count": null,
   "metadata": {
    "colab": {
     "base_uri": "https://localhost:8080/",
     "height": 34
    },
    "colab_type": "code",
    "collapsed": false,
    "id": "CF4j6KsPmcPp",
    "outputId": "e7ade617-215f-40b2-8229-2f2706d58547"
   },
   "outputs": [],
   "source": [
    "train_mean = X_train.mean(); train_mean"
   ]
  },
  {
   "cell_type": "code",
   "execution_count": null,
   "metadata": {
    "colab": {
     "base_uri": "https://localhost:8080/",
     "height": 34
    },
    "colab_type": "code",
    "collapsed": false,
    "id": "rAF-eIoBmfXx",
    "outputId": "ee3c79f6-7f42-46a7-892a-e1d07419e7c9"
   },
   "outputs": [],
   "source": [
    "train_std = X_train.std();train_std"
   ]
  },
  {
   "cell_type": "code",
   "execution_count": null,
   "metadata": {
    "colab": {},
    "colab_type": "code",
    "collapsed": true,
    "id": "5-3Grq7BmjeG"
   },
   "outputs": [],
   "source": [
    "X_train = (X_train - train_mean)/train_std\n",
    "X_test = (X_test - train_mean)/train_std"
   ]
  },
  {
   "cell_type": "code",
   "execution_count": null,
   "metadata": {
    "colab": {
     "base_uri": "https://localhost:8080/",
     "height": 34
    },
    "colab_type": "code",
    "collapsed": false,
    "id": "VS-_f8m1mjoQ",
    "outputId": "89b38146-cdda-4a95-d273-685e577b674c"
   },
   "outputs": [],
   "source": [
    "print(f'Training Mean {X_train.mean():.3f}')\n",
    "print(f'Training Std {X_train.std():.3f}')\n",
    "print(f'Test Mean {X_test.mean():.3f}')\n",
    "print(f'Test Std {X_test.std():.3f}')"
   ]
  },
  {
   "cell_type": "markdown",
   "metadata": {
    "colab_type": "text",
    "id": "-EuPGiCJ-lmB"
   },
   "source": [
    "Normalisation is required so that all the inputs are at a comparable range.\n",
    "Say there are two inputs to your ann, x1 and x2. x1 varies from to 0 to 0.5 and x2 varies from 0 to 1000. A change of x1 of 0.5  is 100 percent change where as a change of x2 by 0.5 is only a change of 0.05%. Hence normalization helps. "
   ]
  },
  {
   "cell_type": "markdown",
   "metadata": {
    "colab_type": "text",
    "id": "P2z_A6xiRvVg"
   },
   "source": [
    "### 2. Training using only Fully Connected layers first"
   ]
  },
  {
   "cell_type": "code",
   "execution_count": null,
   "metadata": {
    "collapsed": false
   },
   "outputs": [],
   "source": [
    "from keras.models import Sequential\n",
    "from keras.layers import Dense, Flatten\n",
    "\n",
    "model = Sequential([\n",
    "    \n",
    "])"
   ]
  },
  {
   "cell_type": "code",
   "execution_count": null,
   "metadata": {
    "collapsed": false
   },
   "outputs": [],
   "source": [
    "\n",
    "model.compile()\n"
   ]
  },
  {
   "cell_type": "code",
   "execution_count": null,
   "metadata": {
    "collapsed": false
   },
   "outputs": [],
   "source": [
    "model.fit()\n"
   ]
  },
  {
   "cell_type": "code",
   "execution_count": null,
   "metadata": {
    "collapsed": false
   },
   "outputs": [],
   "source": [
    "model.evaluate()"
   ]
  },
  {
   "cell_type": "markdown",
   "metadata": {
    "colab_type": "text",
    "id": "jgeCrlak5AMG"
   },
   "source": [
    "### 3. Extending to CNNs\n",
    "\n",
    "Now, let's replicate the same architecture from the visualization provided on the previous video:\n",
    "![Screen Shot 2019-05-14 at 12 58 15](https://user-images.githubusercontent.com/5733246/57713463-e8627400-7648-11e9-8c64-3745519dbb20.png)\n",
    "\n",
    "The analog architecture that is going to be used is:\n",
    "- Conv. Layer with 6 filters\n",
    "- Maxpooling\n",
    "- Conv. Layer with 16 filters\n",
    "- Maxpooling\n",
    "- Fully connected layer with 120 units\n",
    "- Fully connected layer with 100 units\n",
    "- Output layer with 10 units\n",
    "\n",
    "#### 3.1 One Conv-Layer"
   ]
  },
  {
   "cell_type": "code",
   "execution_count": null,
   "metadata": {
    "collapsed": false
   },
   "outputs": [],
   "source": [
    "X_train.shape"
   ]
  },
  {
   "cell_type": "code",
   "execution_count": null,
   "metadata": {
    "collapsed": false
   },
   "outputs": [],
   "source": [
    "X_train = X_train.reshape(60000,28,28,1)"
   ]
  },
  {
   "cell_type": "code",
   "execution_count": null,
   "metadata": {
    "collapsed": true
   },
   "outputs": [],
   "source": [
    "X_test = X_test.reshape(10000,28,28,1)"
   ]
  },
  {
   "cell_type": "code",
   "execution_count": null,
   "metadata": {
    "collapsed": false
   },
   "outputs": [],
   "source": [
    "from keras.layers import Conv2D, MaxPool2D\n",
    "\n",
    "model = Sequential([\n",
    "    Conv2D(6, kernel_size=(3,3), activation='relu', input_shape=(28,28,1)),\n",
    "    MaxPool2D(),\n",
    "    Conv2D(16, kernel_size=(3,3), activation='relu'),\n",
    "    MaxPool2D(),\n",
    "    Flatten(),\n",
    "    Dense(300, activation='relu'),\n",
    "    Dense(10, activation='softmax')\n",
    "])\n"
   ]
  },
  {
   "cell_type": "code",
   "execution_count": null,
   "metadata": {
    "collapsed": true
   },
   "outputs": [],
   "source": [
    "\n",
    "model.compile(optimizer='adam', loss='sparse_categorical_crossentropy', metrics=['accuracy'])\n"
   ]
  },
  {
   "cell_type": "code",
   "execution_count": null,
   "metadata": {
    "collapsed": false
   },
   "outputs": [],
   "source": [
    "model.fit(X_train, y_train)"
   ]
  },
  {
   "cell_type": "code",
   "execution_count": null,
   "metadata": {
    "collapsed": false
   },
   "outputs": [],
   "source": [
    "model.evaluate(X_test, y_test)"
   ]
  },
  {
   "cell_type": "markdown",
   "metadata": {},
   "source": [
    "The previous error occours because we need to add a new dimension to the input data for the batch slicing. We can confirm this in the [documentation of Conv2D](https://keras.io/layers/convolutional/):\n",
    "> 4D tensor with shape: (batch, channels, rows, cols) if data_format is \"channels_first\" or 4D tensor with shape: (batch, rows, cols, channels) if data_format is \"channels_last\".\n",
    "\n",
    "The data format can be verified this way:"
   ]
  },
  {
   "cell_type": "code",
   "execution_count": null,
   "metadata": {
    "collapsed": false
   },
   "outputs": [],
   "source": [
    "from keras import backend as K\n",
    "K.image_data_format()"
   ]
  },
  {
   "cell_type": "markdown",
   "metadata": {},
   "source": [
    "By default, the data format on tensorflow is 'channel_last', hence, we have to reshape the input data to '(batch, rows, cols, channels)'. The current shape is:"
   ]
  },
  {
   "cell_type": "code",
   "execution_count": null,
   "metadata": {
    "collapsed": false
   },
   "outputs": [],
   "source": [
    "print(\"Shape of the training set: {}\".format(X_train.shape))\n",
    "print(\"Shape of the test set: {}\".format(X_test.shape))"
   ]
  },
  {
   "cell_type": "markdown",
   "metadata": {},
   "source": [
    "It is missing the channel dimension. Since this image is black and white, the number of channels is just one. The input data can be reshaped in the folowing way:"
   ]
  },
  {
   "cell_type": "code",
   "execution_count": null,
   "metadata": {
    "collapsed": true
   },
   "outputs": [],
   "source": [
    "X_train = X_train.reshape(60000, 28, 28, 1)\n",
    "X_test = X_test.reshape(10000, 28, 28, 1)"
   ]
  },
  {
   "cell_type": "markdown",
   "metadata": {},
   "source": [
    "Now let's train again:"
   ]
  },
  {
   "cell_type": "code",
   "execution_count": null,
   "metadata": {
    "colab": {},
    "colab_type": "code",
    "collapsed": false,
    "id": "qGR6SwKcXo14"
   },
   "outputs": [],
   "source": [
    "from keras.layers import Conv2D\n",
    "\n",
    "model = Sequential([\n",
    "    Conv2D(6, kernel_size=(3, 3), activation='relu', input_shape=(28,28,1)),\n",
    "    Flatten(),\n",
    "    Dense(512, activation='relu'),\n",
    "    Dense(10, activation='softmax')\n",
    "])\n",
    "\n",
    "model.compile(optimizer='adam',\n",
    "              loss='sparse_categorical_crossentropy',\n",
    "              metrics=['accuracy'])\n",
    "\n",
    "model.fit(X_train, y_train, epochs=2)\n",
    "score = model.evaluate(X_test, y_test)\n",
    "\n",
    "print('Test loss:', score[0])\n",
    "print('Test accuracy:', score[1])"
   ]
  },
  {
   "cell_type": "markdown",
   "metadata": {
    "colab": {
     "base_uri": "https://localhost:8080/",
     "height": 34
    },
    "colab_type": "code",
    "collapsed": false,
    "id": "9FewikbqXqM6",
    "outputId": "34f20fdb-6377-4e38-ccc4-e3d61e5bece6"
   },
   "source": [
    "#### 3.2 One Conv-Layer + Maxpooling\n",
    "\n",
    "Now, let's add maxpooling:"
   ]
  },
  {
   "cell_type": "code",
   "execution_count": null,
   "metadata": {
    "colab": {
     "base_uri": "https://localhost:8080/",
     "height": 34
    },
    "colab_type": "code",
    "collapsed": false,
    "id": "i8PE1ytWZLV0",
    "outputId": "20a786cc-e9c4-4b2d-c79d-91c275daa9df"
   },
   "outputs": [],
   "source": [
    "from keras.layers import MaxPooling2D\n",
    "\n",
    "model = Sequential([\n",
    "    Conv2D(6, kernel_size=(3, 3), activation='relu', input_shape=(28,28,1)),\n",
    "    MaxPooling2D(pool_size=(2, 2)),\n",
    "    Flatten(),\n",
    "    Dense(512, activation='relu'),\n",
    "    Dense(10, activation='softmax')\n",
    "])\n",
    "\n",
    "model.compile(optimizer='adam',\n",
    "              loss='sparse_categorical_crossentropy',\n",
    "              metrics=['accuracy'])\n",
    "\n",
    "model.fit(X_train, y_train, epochs=2)\n",
    "score = model.evaluate(X_test, y_test)\n",
    "\n",
    "print('Test loss:', score[0])\n",
    "print('Test accuracy:', score[1])"
   ]
  },
  {
   "cell_type": "markdown",
   "metadata": {},
   "source": [
    "#### 3.3 Two Conv-Layer + Maxpooling\n",
    "\n",
    "And now, let's finish the architecture:"
   ]
  },
  {
   "cell_type": "code",
   "execution_count": null,
   "metadata": {
    "colab": {},
    "colab_type": "code",
    "collapsed": false,
    "id": "iwvAv2apT-Qz"
   },
   "outputs": [],
   "source": [
    "model = Sequential([\n",
    "    Conv2D(6, kernel_size=(3, 3), activation='relu', input_shape=(28,28,1)),\n",
    "    MaxPooling2D(pool_size=(2, 2)),\n",
    "    Conv2D(16, kernel_size=(3, 3), activation='relu'),\n",
    "    MaxPooling2D(pool_size=(2, 2)),\n",
    "    Flatten(),\n",
    "    Dense(120, activation='relu'),\n",
    "    Dense(100, activation='relu'),\n",
    "    Dense(10, activation='softmax')\n",
    "])\n",
    "\n",
    "model.compile(optimizer='adam',\n",
    "              loss='sparse_categorical_crossentropy',\n",
    "              metrics=['accuracy'])\n",
    "\n",
    "model.fit(X_train, y_train, epochs=2)\n",
    "score = model.evaluate(X_test, y_test)\n",
    "\n",
    "print('Test loss:', score[0])\n",
    "print('Test accuracy:', score[1])"
   ]
  },
  {
   "cell_type": "markdown",
   "metadata": {
    "colab": {
     "base_uri": "https://localhost:8080/",
     "height": 68
    },
    "colab_type": "code",
    "collapsed": false,
    "id": "aJtVtYoIb7EN",
    "outputId": "b5ef2074-31d3-4e7b-edfb-522d876f3b4a"
   },
   "source": [
    "### 4. Visualizing predictions\n",
    "Finally, let's visualize some predictions:"
   ]
  },
  {
   "cell_type": "code",
   "execution_count": null,
   "metadata": {
    "collapsed": false
   },
   "outputs": [],
   "source": [
    "import numpy as np\n",
    "import matplotlib.pyplot as plt\n",
    "%matplotlib inline\n",
    "\n",
    "\n",
    "# Index to be visualized\n",
    "for idx in range(5):\n",
    "    plt.imshow(X_test[idx].reshape(28,28), cmap='gray')\n",
    "    out = model.predict(X_test[idx].reshape(1,28,28,1))\n",
    "    plt.title(\"True: {}, Pred: {}\".format(y_test[idx], np.argmax(out)))\n",
    "    plt.show()"
   ]
  },
  {
   "cell_type": "code",
   "execution_count": null,
   "metadata": {
    "collapsed": true
   },
   "outputs": [],
   "source": []
  }
 ],
 "metadata": {
  "accelerator": "GPU",
  "anaconda-cloud": {},
  "colab": {
   "name": "CNNs.ipynb",
   "provenance": [],
   "version": "0.3.2"
  },
  "kernelspec": {
   "display_name": "Python [conda env:tensorflow]",
   "language": "python",
   "name": "conda-env-tensorflow-py"
  },
  "language_info": {
   "codemirror_mode": {
    "name": "ipython",
    "version": 3
   },
   "file_extension": ".py",
   "mimetype": "text/x-python",
   "name": "python",
   "nbconvert_exporter": "python",
   "pygments_lexer": "ipython3",
   "version": "3.6.5"
  }
 },
 "nbformat": 4,
 "nbformat_minor": 0
}
